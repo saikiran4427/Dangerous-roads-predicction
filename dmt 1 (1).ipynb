{
 "cells": [
  {
   "cell_type": "code",
   "execution_count": 1,
   "metadata": {},
   "outputs": [],
   "source": [
    "import pandas as pd\n",
    "import numpy as np"
   ]
  },
  {
   "cell_type": "code",
   "execution_count": 2,
   "metadata": {},
   "outputs": [
    {
     "data": {
      "text/html": [
       "<div>\n",
       "<style scoped>\n",
       "    .dataframe tbody tr th:only-of-type {\n",
       "        vertical-align: middle;\n",
       "    }\n",
       "\n",
       "    .dataframe tbody tr th {\n",
       "        vertical-align: top;\n",
       "    }\n",
       "\n",
       "    .dataframe thead th {\n",
       "        text-align: right;\n",
       "    }\n",
       "</style>\n",
       "<table border=\"1\" class=\"dataframe\">\n",
       "  <thead>\n",
       "    <tr style=\"text-align: right;\">\n",
       "      <th></th>\n",
       "      <th>name of the road</th>\n",
       "      <th>district</th>\n",
       "      <th>road accedients</th>\n",
       "      <th>girls harazments</th>\n",
       "      <th>Theft</th>\n",
       "      <th>total</th>\n",
       "      <th>status</th>\n",
       "    </tr>\n",
       "  </thead>\n",
       "  <tbody>\n",
       "    <tr>\n",
       "      <td>0</td>\n",
       "      <td>National highway 360a</td>\n",
       "      <td>srikakulam</td>\n",
       "      <td>5014</td>\n",
       "      <td>111</td>\n",
       "      <td>469</td>\n",
       "      <td>5594</td>\n",
       "      <td>1</td>\n",
       "    </tr>\n",
       "    <tr>\n",
       "      <td>1</td>\n",
       "      <td>ichchapuram - sompeta road</td>\n",
       "      <td>srikakulam</td>\n",
       "      <td>3014</td>\n",
       "      <td>157</td>\n",
       "      <td>914</td>\n",
       "      <td>4085</td>\n",
       "      <td>1</td>\n",
       "    </tr>\n",
       "    <tr>\n",
       "      <td>2</td>\n",
       "      <td>kotturu - palakonda road</td>\n",
       "      <td>srikakulam</td>\n",
       "      <td>7801</td>\n",
       "      <td>99</td>\n",
       "      <td>140</td>\n",
       "      <td>8040</td>\n",
       "      <td>1</td>\n",
       "    </tr>\n",
       "    <tr>\n",
       "      <td>3</td>\n",
       "      <td>nandhigam - narasannapeta(NH_5)</td>\n",
       "      <td>srikakulam</td>\n",
       "      <td>6152</td>\n",
       "      <td>177</td>\n",
       "      <td>119</td>\n",
       "      <td>6448</td>\n",
       "      <td>1</td>\n",
       "    </tr>\n",
       "    <tr>\n",
       "      <td>4</td>\n",
       "      <td>ponduru - ko0haram road</td>\n",
       "      <td>srikakulam</td>\n",
       "      <td>1564</td>\n",
       "      <td>32</td>\n",
       "      <td>147</td>\n",
       "      <td>1743</td>\n",
       "      <td>0</td>\n",
       "    </tr>\n",
       "    <tr>\n",
       "      <td>...</td>\n",
       "      <td>...</td>\n",
       "      <td>...</td>\n",
       "      <td>...</td>\n",
       "      <td>...</td>\n",
       "      <td>...</td>\n",
       "      <td>...</td>\n",
       "      <td>...</td>\n",
       "    </tr>\n",
       "    <tr>\n",
       "      <td>108</td>\n",
       "      <td>narsipatnam - elamanchili road</td>\n",
       "      <td>vishakapatanam</td>\n",
       "      <td>6214</td>\n",
       "      <td>95</td>\n",
       "      <td>888</td>\n",
       "      <td>7197</td>\n",
       "      <td>1</td>\n",
       "    </tr>\n",
       "    <tr>\n",
       "      <td>109</td>\n",
       "      <td>chodavarm - paderu road</td>\n",
       "      <td>vishakapatanam</td>\n",
       "      <td>1247</td>\n",
       "      <td>321</td>\n",
       "      <td>882</td>\n",
       "      <td>2450</td>\n",
       "      <td>0</td>\n",
       "    </tr>\n",
       "    <tr>\n",
       "      <td>110</td>\n",
       "      <td>chintapalle - paderu road</td>\n",
       "      <td>vishakapatanam</td>\n",
       "      <td>3624</td>\n",
       "      <td>259</td>\n",
       "      <td>589</td>\n",
       "      <td>4472</td>\n",
       "      <td>1</td>\n",
       "    </tr>\n",
       "    <tr>\n",
       "      <td>111</td>\n",
       "      <td>srugavarapukota - vishakapatanam</td>\n",
       "      <td>vishakapatanam</td>\n",
       "      <td>6249</td>\n",
       "      <td>425</td>\n",
       "      <td>252</td>\n",
       "      <td>6926</td>\n",
       "      <td>1</td>\n",
       "    </tr>\n",
       "    <tr>\n",
       "      <td>112</td>\n",
       "      <td>anakapalle - chodavaram</td>\n",
       "      <td>vishakapatanam</td>\n",
       "      <td>2541</td>\n",
       "      <td>462</td>\n",
       "      <td>254</td>\n",
       "      <td>3257</td>\n",
       "      <td>1</td>\n",
       "    </tr>\n",
       "  </tbody>\n",
       "</table>\n",
       "<p>113 rows × 7 columns</p>\n",
       "</div>"
      ],
      "text/plain": [
       "                     name of the road        district  road accedients  \\\n",
       "0               National highway 360a      srikakulam             5014   \n",
       "1          ichchapuram - sompeta road      srikakulam             3014   \n",
       "2            kotturu - palakonda road      srikakulam             7801   \n",
       "3     nandhigam - narasannapeta(NH_5)      srikakulam             6152   \n",
       "4             ponduru - ko0haram road      srikakulam             1564   \n",
       "..                                ...             ...              ...   \n",
       "108   narsipatnam - elamanchili road   vishakapatanam             6214   \n",
       "109           chodavarm - paderu road  vishakapatanam             1247   \n",
       "110         chintapalle - paderu road  vishakapatanam             3624   \n",
       "111  srugavarapukota - vishakapatanam  vishakapatanam             6249   \n",
       "112           anakapalle - chodavaram  vishakapatanam             2541   \n",
       "\n",
       "     girls harazments  Theft  total  status  \n",
       "0                 111    469   5594       1  \n",
       "1                 157    914   4085       1  \n",
       "2                  99    140   8040       1  \n",
       "3                 177    119   6448       1  \n",
       "4                  32    147   1743       0  \n",
       "..                ...    ...    ...     ...  \n",
       "108                95    888   7197       1  \n",
       "109               321    882   2450       0  \n",
       "110               259    589   4472       1  \n",
       "111               425    252   6926       1  \n",
       "112               462    254   3257       1  \n",
       "\n",
       "[113 rows x 7 columns]"
      ]
     },
     "execution_count": 2,
     "metadata": {},
     "output_type": "execute_result"
    }
   ],
   "source": [
    "df = pd.read_csv('C:/Users/Sai Kiran/Desktop/sai.csv', encoding='utf-8')\n",
    "df[['name of the road', 'district', 'road accedients', 'girls harazments', 'Theft','total','status']]"
   ]
  },
  {
   "cell_type": "code",
   "execution_count": 3,
   "metadata": {},
   "outputs": [
    {
     "data": {
      "text/plain": [
       "array(['Anantapur', 'East godavari', 'Guntur', 'Krishna', 'Kurnool ',\n",
       "       'Nellore', 'West godavari ', 'chittoor', 'kadapa', 'prakasam ',\n",
       "       'srikakulam', 'vishakapatanam', 'vizianagaram '], dtype=object)"
      ]
     },
     "execution_count": 3,
     "metadata": {},
     "output_type": "execute_result"
    }
   ],
   "source": [
    "districts = np.unique(df['district'])\n",
    "districts"
   ]
  },
  {
   "cell_type": "code",
   "execution_count": 5,
   "metadata": {},
   "outputs": [
    {
     "data": {
      "text/plain": [
       "{0: 'Anantapur',\n",
       " 1: 'East godavari',\n",
       " 2: 'Guntur',\n",
       " 3: 'Krishna',\n",
       " 4: 'Kurnool ',\n",
       " 5: 'Nellore',\n",
       " 6: 'West godavari ',\n",
       " 7: 'chittoor',\n",
       " 8: 'kadapa',\n",
       " 9: 'prakasam ',\n",
       " 10: 'srikakulam',\n",
       " 11: 'vishakapatanam',\n",
       " 12: 'vizianagaram '}"
      ]
     },
     "execution_count": 5,
     "metadata": {},
     "output_type": "execute_result"
    }
   ],
   "source": [
    "from sklearn.preprocessing import LabelEncoder\n",
    "gle = LabelEncoder()\n",
    "district_labels = gle.fit_transform(df['district'])\n",
    "district_mappings = {index: label for index, label in \n",
    "                  enumerate(gle.classes_)}\n",
    "district_mappings"
   ]
  },
  {
   "cell_type": "code",
   "execution_count": 6,
   "metadata": {},
   "outputs": [
    {
     "data": {
      "text/plain": [
       "array(['Anantapur - kodikondia (NH-7)', 'Anantapur - madanapalle (NH-42)',\n",
       "       'Guntakal - rayalcheruvu road',\n",
       "       'Hindupur - kadiri road via Highway ', 'National highway 360a',\n",
       "       'Tenali - guntur (via narakoduru road)', 'Tirupati ghat roads',\n",
       "       'adoni - emmiganuru road', 'adoni -kuppagalu road',\n",
       "       'akividu - bhimavaram', 'allagada - kollkuntala',\n",
       "       'allagadda - baganapalli road', 'alur - adoni road ',\n",
       "       'amalapuran - kottapeta road', 'amaravathi - sathenapalli road',\n",
       "       'anakapalle - chodavaram', 'anakapalle - vishakapatanam (NH-5)',\n",
       "       'annavaram - kakinada road (NH - 214', 'atmakur - srilsailam road',\n",
       "       'avanigadda -manchilipatanam (NH-214A)',\n",
       "       'bapatla - repalle (NH-214A)', 'bhimavaram - gudivada (NH- 214)',\n",
       "       'buchchireddipallem - vinjamur road',\n",
       "       'chandragiri - srikalahasthi road', 'chintapalle - paderu road',\n",
       "       'chipurupalli -  bobili road', 'chitoor - mulbagal (NH-69)',\n",
       "       'chittoor - chennai (NH-40)', 'chittoor - nagari road',\n",
       "       'chodavaram - addtigala road', 'chodavarm - paderu road',\n",
       "       'darsi -addanki road', 'eluru - tanuku (NH- 5)',\n",
       "       'eruvur - gudur road', 'gajapatinagaram - chipurupalli road ',\n",
       "       'gannavaram - eluru road', 'giddalur - bestavarpeta road',\n",
       "       'gmapavaram - bhimadolu road', 'gopalapuram - kovvuru road',\n",
       "       'gopalapuram - tadepalligudem', 'gudivada - kaikalur (NH-214)',\n",
       "       'gudur - kottapatnam road', 'guntur - mangalagiri (NH-5)',\n",
       "       'hiramandalam - patapatnam junction', 'ichchapuram - sompeta road',\n",
       "       'ipuru - karempudi road', 'kadapa - nandyal (NH -40 )',\n",
       "       'kadapa - rajampet road', 'kalyandurg - tadpatri road',\n",
       "       'kambadur - Dharmavaram', 'kandukur - podile road',\n",
       "       'kavali - chinnakraka', 'kavali -nellore (NH-16)',\n",
       "       'kodumuru - kur0ol road', 'kottapeta  - rajahmundary road',\n",
       "       'kotturu - palakonda road', 'kovvuru - tanuku road',\n",
       "       'kuppam - palmaner road', 'kur0ol - atmakur',\n",
       "       'kur0ol - dhone (NH -7)', 'kur0ol -nandyal (NH - 44)',\n",
       "       'mailavaram - nuzvidu road', 'mailavaram - tiruvuru (NH-221)',\n",
       "       'mangalagiri - tadikonda road', 'markapur -erragondapalem road',\n",
       "       'muddanuru - kamalapuram road', 'nandhigam - narasannapeta(NH_5)',\n",
       "       'narasaraopeta - sathenapalli road',\n",
       "       'narsapur - machallipatanam (NH - 214A)', 'narsapur - tanuku road',\n",
       "       'narsipatnam - elamanchili road ', 'nellore -maipadu road',\n",
       "       'ongole - alluru kottapatanam road', 'ongole - chirala road',\n",
       "       'ongole - guntur (NH- 5)', 'ongole - paruchur (NH- 214A)',\n",
       "       'parvathipuram - bobili road', 'pattikonda - alur road',\n",
       "       'pattikonda - dhone road', 'peddapuram - chodavaram road',\n",
       "       'pileru - reniguntta road (NH- 716)',\n",
       "       'polavarm - chintalapudi road', 'ponduru - ko0haram road',\n",
       "       'proddutur - jamalamadugu road ', 'pulivendula - lakkireddipalle',\n",
       "       'pulivendula - proddutur road', 'punganuru - pileru road',\n",
       "       'rajahmundary - annavaram road (NH - 5)',\n",
       "       'ramchandrapuram - peddapuram road', 'rapur - gudur road',\n",
       "       'rayachoti -rajampet', 'razole - kottapeta road',\n",
       "       'salur - bobili road ', 'samalakota - rajahmundary road',\n",
       "       'srikalahasthi - satyavedu road',\n",
       "       'srugavarapukota - vishakapatanam',\n",
       "       'tamballapalle - horseleyhills road', 'tarlupadu - podile road',\n",
       "       'tenali - guntur (via nandhivelugu road)',\n",
       "       'tenali - vijayawada (via dugirala road)',\n",
       "       'thadepallegudem - bhimavaram', 'tuni - pithapuram (NH - 5)',\n",
       "       'udagiri -atmakur road', 'uravakonda - rayadurg road',\n",
       "       'vayalpad - pileru (NH-71)', 'venkatagiri - nayudupeta road',\n",
       "       'venkatagiri - rapur road', 'vijayawada - amaravathi Road',\n",
       "       'vijayawada - guntur (NH-5)', 'vijayawada -jaggayypeta (NH-9)',\n",
       "       'vissanna peta - gampalogudem', 'vizianagaram - salur (NH-43)',\n",
       "       'vizianagaram - visakapatanam (NH -5)'], dtype=object)"
      ]
     },
     "execution_count": 6,
     "metadata": {},
     "output_type": "execute_result"
    }
   ],
   "source": [
    "df['district'] = district_labels\n",
    "df[['name of the road', 'district', 'road accedients', 'girls harazments', 'Theft','total','status']].iloc[0:112]\n",
    "roads = np.unique(df['name of the road'])\n",
    "roads"
   ]
  },
  {
   "cell_type": "code",
   "execution_count": 7,
   "metadata": {
    "scrolled": false
   },
   "outputs": [
    {
     "data": {
      "text/plain": [
       "{0: 'Anantapur - kodikondia (NH-7)',\n",
       " 1: 'Anantapur - madanapalle (NH-42)',\n",
       " 2: 'Guntakal - rayalcheruvu road',\n",
       " 3: 'Hindupur - kadiri road via Highway ',\n",
       " 4: 'National highway 360a',\n",
       " 5: 'Tenali - guntur (via narakoduru road)',\n",
       " 6: 'Tirupati ghat roads',\n",
       " 7: 'adoni - emmiganuru road',\n",
       " 8: 'adoni -kuppagalu road',\n",
       " 9: 'akividu - bhimavaram',\n",
       " 10: 'allagada - kollkuntala',\n",
       " 11: 'allagadda - baganapalli road',\n",
       " 12: 'alur - adoni road ',\n",
       " 13: 'amalapuran - kottapeta road',\n",
       " 14: 'amaravathi - sathenapalli road',\n",
       " 15: 'anakapalle - chodavaram',\n",
       " 16: 'anakapalle - vishakapatanam (NH-5)',\n",
       " 17: 'annavaram - kakinada road (NH - 214',\n",
       " 18: 'atmakur - srilsailam road',\n",
       " 19: 'avanigadda -manchilipatanam (NH-214A)',\n",
       " 20: 'bapatla - repalle (NH-214A)',\n",
       " 21: 'bhimavaram - gudivada (NH- 214)',\n",
       " 22: 'buchchireddipallem - vinjamur road',\n",
       " 23: 'chandragiri - srikalahasthi road',\n",
       " 24: 'chintapalle - paderu road',\n",
       " 25: 'chipurupalli -  bobili road',\n",
       " 26: 'chitoor - mulbagal (NH-69)',\n",
       " 27: 'chittoor - chennai (NH-40)',\n",
       " 28: 'chittoor - nagari road',\n",
       " 29: 'chodavaram - addtigala road',\n",
       " 30: 'chodavarm - paderu road',\n",
       " 31: 'darsi -addanki road',\n",
       " 32: 'eluru - tanuku (NH- 5)',\n",
       " 33: 'eruvur - gudur road',\n",
       " 34: 'gajapatinagaram - chipurupalli road ',\n",
       " 35: 'gannavaram - eluru road',\n",
       " 36: 'giddalur - bestavarpeta road',\n",
       " 37: 'gmapavaram - bhimadolu road',\n",
       " 38: 'gopalapuram - kovvuru road',\n",
       " 39: 'gopalapuram - tadepalligudem',\n",
       " 40: 'gudivada - kaikalur (NH-214)',\n",
       " 41: 'gudur - kottapatnam road',\n",
       " 42: 'guntur - mangalagiri (NH-5)',\n",
       " 43: 'hiramandalam - patapatnam junction',\n",
       " 44: 'ichchapuram - sompeta road',\n",
       " 45: 'ipuru - karempudi road',\n",
       " 46: 'kadapa - nandyal (NH -40 )',\n",
       " 47: 'kadapa - rajampet road',\n",
       " 48: 'kalyandurg - tadpatri road',\n",
       " 49: 'kambadur - Dharmavaram',\n",
       " 50: 'kandukur - podile road',\n",
       " 51: 'kavali - chinnakraka',\n",
       " 52: 'kavali -nellore (NH-16)',\n",
       " 53: 'kodumuru - kur0ol road',\n",
       " 54: 'kottapeta  - rajahmundary road',\n",
       " 55: 'kotturu - palakonda road',\n",
       " 56: 'kovvuru - tanuku road',\n",
       " 57: 'kuppam - palmaner road',\n",
       " 58: 'kur0ol - atmakur',\n",
       " 59: 'kur0ol - dhone (NH -7)',\n",
       " 60: 'kur0ol -nandyal (NH - 44)',\n",
       " 61: 'mailavaram - nuzvidu road',\n",
       " 62: 'mailavaram - tiruvuru (NH-221)',\n",
       " 63: 'mangalagiri - tadikonda road',\n",
       " 64: 'markapur -erragondapalem road',\n",
       " 65: 'muddanuru - kamalapuram road',\n",
       " 66: 'nandhigam - narasannapeta(NH_5)',\n",
       " 67: 'narasaraopeta - sathenapalli road',\n",
       " 68: 'narsapur - machallipatanam (NH - 214A)',\n",
       " 69: 'narsapur - tanuku road',\n",
       " 70: 'narsipatnam - elamanchili road ',\n",
       " 71: 'nellore -maipadu road',\n",
       " 72: 'ongole - alluru kottapatanam road',\n",
       " 73: 'ongole - chirala road',\n",
       " 74: 'ongole - guntur (NH- 5)',\n",
       " 75: 'ongole - paruchur (NH- 214A)',\n",
       " 76: 'parvathipuram - bobili road',\n",
       " 77: 'pattikonda - alur road',\n",
       " 78: 'pattikonda - dhone road',\n",
       " 79: 'peddapuram - chodavaram road',\n",
       " 80: 'pileru - reniguntta road (NH- 716)',\n",
       " 81: 'polavarm - chintalapudi road',\n",
       " 82: 'ponduru - ko0haram road',\n",
       " 83: 'proddutur - jamalamadugu road ',\n",
       " 84: 'pulivendula - lakkireddipalle',\n",
       " 85: 'pulivendula - proddutur road',\n",
       " 86: 'punganuru - pileru road',\n",
       " 87: 'rajahmundary - annavaram road (NH - 5)',\n",
       " 88: 'ramchandrapuram - peddapuram road',\n",
       " 89: 'rapur - gudur road',\n",
       " 90: 'rayachoti -rajampet',\n",
       " 91: 'razole - kottapeta road',\n",
       " 92: 'salur - bobili road ',\n",
       " 93: 'samalakota - rajahmundary road',\n",
       " 94: 'srikalahasthi - satyavedu road',\n",
       " 95: 'srugavarapukota - vishakapatanam',\n",
       " 96: 'tamballapalle - horseleyhills road',\n",
       " 97: 'tarlupadu - podile road',\n",
       " 98: 'tenali - guntur (via nandhivelugu road)',\n",
       " 99: 'tenali - vijayawada (via dugirala road)',\n",
       " 100: 'thadepallegudem - bhimavaram',\n",
       " 101: 'tuni - pithapuram (NH - 5)',\n",
       " 102: 'udagiri -atmakur road',\n",
       " 103: 'uravakonda - rayadurg road',\n",
       " 104: 'vayalpad - pileru (NH-71)',\n",
       " 105: 'venkatagiri - nayudupeta road',\n",
       " 106: 'venkatagiri - rapur road',\n",
       " 107: 'vijayawada - amaravathi Road',\n",
       " 108: 'vijayawada - guntur (NH-5)',\n",
       " 109: 'vijayawada -jaggayypeta (NH-9)',\n",
       " 110: 'vissanna peta - gampalogudem',\n",
       " 111: 'vizianagaram - salur (NH-43)',\n",
       " 112: 'vizianagaram - visakapatanam (NH -5)'}"
      ]
     },
     "execution_count": 7,
     "metadata": {},
     "output_type": "execute_result"
    }
   ],
   "source": [
    "from sklearn.preprocessing import LabelEncoder\n",
    "gle = LabelEncoder()\n",
    "road_labels = gle.fit_transform(df['name of the road'])\n",
    "road_mappings = {index: label for index, label in \n",
    "                  enumerate(gle.classes_)}\n",
    "road_mappings"
   ]
  },
  {
   "cell_type": "code",
   "execution_count": 8,
   "metadata": {},
   "outputs": [
    {
     "data": {
      "text/html": [
       "<div>\n",
       "<style scoped>\n",
       "    .dataframe tbody tr th:only-of-type {\n",
       "        vertical-align: middle;\n",
       "    }\n",
       "\n",
       "    .dataframe tbody tr th {\n",
       "        vertical-align: top;\n",
       "    }\n",
       "\n",
       "    .dataframe thead th {\n",
       "        text-align: right;\n",
       "    }\n",
       "</style>\n",
       "<table border=\"1\" class=\"dataframe\">\n",
       "  <thead>\n",
       "    <tr style=\"text-align: right;\">\n",
       "      <th></th>\n",
       "      <th>name of the road</th>\n",
       "      <th>district</th>\n",
       "      <th>road accedients</th>\n",
       "      <th>girls harazments</th>\n",
       "      <th>Theft</th>\n",
       "      <th>total</th>\n",
       "      <th>status</th>\n",
       "    </tr>\n",
       "  </thead>\n",
       "  <tbody>\n",
       "    <tr>\n",
       "      <td>0</td>\n",
       "      <td>4</td>\n",
       "      <td>10</td>\n",
       "      <td>5014</td>\n",
       "      <td>111</td>\n",
       "      <td>469</td>\n",
       "      <td>5594</td>\n",
       "      <td>1</td>\n",
       "    </tr>\n",
       "    <tr>\n",
       "      <td>1</td>\n",
       "      <td>44</td>\n",
       "      <td>10</td>\n",
       "      <td>3014</td>\n",
       "      <td>157</td>\n",
       "      <td>914</td>\n",
       "      <td>4085</td>\n",
       "      <td>1</td>\n",
       "    </tr>\n",
       "    <tr>\n",
       "      <td>2</td>\n",
       "      <td>55</td>\n",
       "      <td>10</td>\n",
       "      <td>7801</td>\n",
       "      <td>99</td>\n",
       "      <td>140</td>\n",
       "      <td>8040</td>\n",
       "      <td>1</td>\n",
       "    </tr>\n",
       "    <tr>\n",
       "      <td>3</td>\n",
       "      <td>66</td>\n",
       "      <td>10</td>\n",
       "      <td>6152</td>\n",
       "      <td>177</td>\n",
       "      <td>119</td>\n",
       "      <td>6448</td>\n",
       "      <td>1</td>\n",
       "    </tr>\n",
       "    <tr>\n",
       "      <td>4</td>\n",
       "      <td>82</td>\n",
       "      <td>10</td>\n",
       "      <td>1564</td>\n",
       "      <td>32</td>\n",
       "      <td>147</td>\n",
       "      <td>1743</td>\n",
       "      <td>0</td>\n",
       "    </tr>\n",
       "    <tr>\n",
       "      <td>...</td>\n",
       "      <td>...</td>\n",
       "      <td>...</td>\n",
       "      <td>...</td>\n",
       "      <td>...</td>\n",
       "      <td>...</td>\n",
       "      <td>...</td>\n",
       "      <td>...</td>\n",
       "    </tr>\n",
       "    <tr>\n",
       "      <td>107</td>\n",
       "      <td>16</td>\n",
       "      <td>11</td>\n",
       "      <td>6245</td>\n",
       "      <td>248</td>\n",
       "      <td>485</td>\n",
       "      <td>6978</td>\n",
       "      <td>1</td>\n",
       "    </tr>\n",
       "    <tr>\n",
       "      <td>108</td>\n",
       "      <td>70</td>\n",
       "      <td>11</td>\n",
       "      <td>6214</td>\n",
       "      <td>95</td>\n",
       "      <td>888</td>\n",
       "      <td>7197</td>\n",
       "      <td>1</td>\n",
       "    </tr>\n",
       "    <tr>\n",
       "      <td>109</td>\n",
       "      <td>30</td>\n",
       "      <td>11</td>\n",
       "      <td>1247</td>\n",
       "      <td>321</td>\n",
       "      <td>882</td>\n",
       "      <td>2450</td>\n",
       "      <td>0</td>\n",
       "    </tr>\n",
       "    <tr>\n",
       "      <td>110</td>\n",
       "      <td>24</td>\n",
       "      <td>11</td>\n",
       "      <td>3624</td>\n",
       "      <td>259</td>\n",
       "      <td>589</td>\n",
       "      <td>4472</td>\n",
       "      <td>1</td>\n",
       "    </tr>\n",
       "    <tr>\n",
       "      <td>111</td>\n",
       "      <td>95</td>\n",
       "      <td>11</td>\n",
       "      <td>6249</td>\n",
       "      <td>425</td>\n",
       "      <td>252</td>\n",
       "      <td>6926</td>\n",
       "      <td>1</td>\n",
       "    </tr>\n",
       "  </tbody>\n",
       "</table>\n",
       "<p>112 rows × 7 columns</p>\n",
       "</div>"
      ],
      "text/plain": [
       "     name of the road  district  road accedients  girls harazments  Theft  \\\n",
       "0                   4        10             5014               111    469   \n",
       "1                  44        10             3014               157    914   \n",
       "2                  55        10             7801                99    140   \n",
       "3                  66        10             6152               177    119   \n",
       "4                  82        10             1564                32    147   \n",
       "..                ...       ...              ...               ...    ...   \n",
       "107                16        11             6245               248    485   \n",
       "108                70        11             6214                95    888   \n",
       "109                30        11             1247               321    882   \n",
       "110                24        11             3624               259    589   \n",
       "111                95        11             6249               425    252   \n",
       "\n",
       "     total  status  \n",
       "0     5594       1  \n",
       "1     4085       1  \n",
       "2     8040       1  \n",
       "3     6448       1  \n",
       "4     1743       0  \n",
       "..     ...     ...  \n",
       "107   6978       1  \n",
       "108   7197       1  \n",
       "109   2450       0  \n",
       "110   4472       1  \n",
       "111   6926       1  \n",
       "\n",
       "[112 rows x 7 columns]"
      ]
     },
     "execution_count": 8,
     "metadata": {},
     "output_type": "execute_result"
    }
   ],
   "source": [
    "df['name of the road'] = road_labels\n",
    "df[['name of the road', 'district', 'road accedients', 'girls harazments', 'Theft','total','status']].iloc[0:112]"
   ]
  },
  {
   "cell_type": "code",
   "execution_count": 9,
   "metadata": {},
   "outputs": [
    {
     "data": {
      "text/html": [
       "<div>\n",
       "<style scoped>\n",
       "    .dataframe tbody tr th:only-of-type {\n",
       "        vertical-align: middle;\n",
       "    }\n",
       "\n",
       "    .dataframe tbody tr th {\n",
       "        vertical-align: top;\n",
       "    }\n",
       "\n",
       "    .dataframe thead th {\n",
       "        text-align: right;\n",
       "    }\n",
       "</style>\n",
       "<table border=\"1\" class=\"dataframe\">\n",
       "  <thead>\n",
       "    <tr style=\"text-align: right;\">\n",
       "      <th></th>\n",
       "      <th>name of the road</th>\n",
       "      <th>district</th>\n",
       "      <th>road accedients</th>\n",
       "      <th>girls harazments</th>\n",
       "      <th>Theft</th>\n",
       "      <th>total</th>\n",
       "      <th>status</th>\n",
       "    </tr>\n",
       "  </thead>\n",
       "  <tbody>\n",
       "    <tr>\n",
       "      <td>61</td>\n",
       "      <td>68</td>\n",
       "      <td>6</td>\n",
       "      <td>5563</td>\n",
       "      <td>624</td>\n",
       "      <td>802</td>\n",
       "      <td>16182</td>\n",
       "      <td>1</td>\n",
       "    </tr>\n",
       "    <tr>\n",
       "      <td>35</td>\n",
       "      <td>6</td>\n",
       "      <td>7</td>\n",
       "      <td>11014</td>\n",
       "      <td>105</td>\n",
       "      <td>614</td>\n",
       "      <td>11733</td>\n",
       "      <td>1</td>\n",
       "    </tr>\n",
       "    <tr>\n",
       "      <td>52</td>\n",
       "      <td>32</td>\n",
       "      <td>6</td>\n",
       "      <td>8484</td>\n",
       "      <td>632</td>\n",
       "      <td>922</td>\n",
       "      <td>10038</td>\n",
       "      <td>1</td>\n",
       "    </tr>\n",
       "    <tr>\n",
       "      <td>59</td>\n",
       "      <td>56</td>\n",
       "      <td>6</td>\n",
       "      <td>9262</td>\n",
       "      <td>324</td>\n",
       "      <td>64</td>\n",
       "      <td>9650</td>\n",
       "      <td>1</td>\n",
       "    </tr>\n",
       "    <tr>\n",
       "      <td>2</td>\n",
       "      <td>55</td>\n",
       "      <td>10</td>\n",
       "      <td>7801</td>\n",
       "      <td>99</td>\n",
       "      <td>140</td>\n",
       "      <td>8040</td>\n",
       "      <td>1</td>\n",
       "    </tr>\n",
       "    <tr>\n",
       "      <td>67</td>\n",
       "      <td>7</td>\n",
       "      <td>4</td>\n",
       "      <td>6656</td>\n",
       "      <td>611</td>\n",
       "      <td>562</td>\n",
       "      <td>7829</td>\n",
       "      <td>1</td>\n",
       "    </tr>\n",
       "    <tr>\n",
       "      <td>103</td>\n",
       "      <td>112</td>\n",
       "      <td>12</td>\n",
       "      <td>6631</td>\n",
       "      <td>341</td>\n",
       "      <td>584</td>\n",
       "      <td>7556</td>\n",
       "      <td>1</td>\n",
       "    </tr>\n",
       "    <tr>\n",
       "      <td>85</td>\n",
       "      <td>41</td>\n",
       "      <td>5</td>\n",
       "      <td>6147</td>\n",
       "      <td>625</td>\n",
       "      <td>682</td>\n",
       "      <td>7454</td>\n",
       "      <td>1</td>\n",
       "    </tr>\n",
       "    <tr>\n",
       "      <td>78</td>\n",
       "      <td>83</td>\n",
       "      <td>8</td>\n",
       "      <td>6214</td>\n",
       "      <td>258</td>\n",
       "      <td>955</td>\n",
       "      <td>7427</td>\n",
       "      <td>1</td>\n",
       "    </tr>\n",
       "    <tr>\n",
       "      <td>51</td>\n",
       "      <td>88</td>\n",
       "      <td>1</td>\n",
       "      <td>6465</td>\n",
       "      <td>522</td>\n",
       "      <td>364</td>\n",
       "      <td>7351</td>\n",
       "      <td>1</td>\n",
       "    </tr>\n",
       "  </tbody>\n",
       "</table>\n",
       "</div>"
      ],
      "text/plain": [
       "     name of the road  district  road accedients  girls harazments  Theft  \\\n",
       "61                 68         6             5563               624    802   \n",
       "35                  6         7            11014               105    614   \n",
       "52                 32         6             8484               632    922   \n",
       "59                 56         6             9262               324     64   \n",
       "2                  55        10             7801                99    140   \n",
       "67                  7         4             6656               611    562   \n",
       "103               112        12             6631               341    584   \n",
       "85                 41         5             6147               625    682   \n",
       "78                 83         8             6214               258    955   \n",
       "51                 88         1             6465               522    364   \n",
       "\n",
       "     total  status  \n",
       "61   16182       1  \n",
       "35   11733       1  \n",
       "52   10038       1  \n",
       "59    9650       1  \n",
       "2     8040       1  \n",
       "67    7829       1  \n",
       "103   7556       1  \n",
       "85    7454       1  \n",
       "78    7427       1  \n",
       "51    7351       1  "
      ]
     },
     "execution_count": 9,
     "metadata": {},
     "output_type": "execute_result"
    }
   ],
   "source": [
    "df.nlargest(10,['total'])"
   ]
  },
  {
   "cell_type": "code",
   "execution_count": 10,
   "metadata": {},
   "outputs": [
    {
     "data": {
      "text/plain": [
       "1    86\n",
       "0    27\n",
       "Name: status, dtype: int64"
      ]
     },
     "execution_count": 10,
     "metadata": {},
     "output_type": "execute_result"
    }
   ],
   "source": [
    "df['status'].value_counts()"
   ]
  },
  {
   "cell_type": "code",
   "execution_count": 12,
   "metadata": {},
   "outputs": [
    {
     "data": {
      "text/plain": [
       "<matplotlib.axes._subplots.AxesSubplot at 0x1ec198b4b08>"
      ]
     },
     "execution_count": 12,
     "metadata": {},
     "output_type": "execute_result"
    },
    {
     "data": {
      "image/png": "[encoded data removed]",
      "text/plain": [
       "<Figure size 432x288 with 1 Axes>"
      ]
     },
     "metadata": {
      "needs_background": "light"
     },
     "output_type": "display_data"
    }
   ],
   "source": [
    "danger=df[df['status']==1][1:20]\n",
    "notdanger=df[df['status']==0][1:20]\n",
    "#help(danger.plot)\n",
    "axes=danger.plot(kind='scatter',x='name of the road',y='total',color='red',label='danger')\n",
    "notdanger.plot(kind='scatter',x='name of the road',y='total',color='green',label='notdanger',ax=axes)"
   ]
  },
  {
   "cell_type": "code",
   "execution_count": 13,
   "metadata": {},
   "outputs": [
    {
     "data": {
      "text/plain": [
       "name of the road    int32\n",
       "district            int32\n",
       "road accedients     int64\n",
       "girls harazments    int64\n",
       "Theft               int64\n",
       "total               int64\n",
       "status              int64\n",
       "dtype: object"
      ]
     },
     "execution_count": 13,
     "metadata": {},
     "output_type": "execute_result"
    }
   ],
   "source": [
    "df.head(20)\n",
    "df.dtypes"
   ]
  },
  {
   "cell_type": "code",
   "execution_count": 14,
   "metadata": {},
   "outputs": [
    {
     "data": {
      "text/plain": [
       "0    1\n",
       "1    1\n",
       "2    1\n",
       "3    1\n",
       "4    0\n",
       "Name: status, dtype: int64"
      ]
     },
     "execution_count": 14,
     "metadata": {},
     "output_type": "execute_result"
    }
   ],
   "source": [
    "df.columns\n",
    "feature_df=df[['name of the road', 'district', 'road accedients', 'girls harazments',\n",
    "       'Theft', 'total']]\n",
    "#df 112 rows and 7 columns\n",
    "#picked 6 out of 7 cols\n",
    "\n",
    "#independet variable\n",
    "X=feature_df\n",
    "\n",
    "\n",
    "#dependend variable\n",
    "y=df['status']\n",
    "X[0:5]\n",
    "y[0:5]"
   ]
  },
  {
   "cell_type": "code",
   "execution_count": 15,
   "metadata": {},
   "outputs": [],
   "source": [
    "from sklearn.linear_model import LogisticRegression\n",
    "from sklearn.ensemble import RandomForestClassifier\n",
    "from sklearn.ensemble import GradientBoostingClassifier\n",
    "from sklearn.naive_bayes import GaussianNB\n",
    "from sklearn.tree import DecisionTreeClassifier\n",
    "from sklearn.neighbors import KNeighborsClassifier\n",
    "from sklearn.svm import SVC\n",
    "\n",
    "from sklearn.model_selection import train_test_split\n",
    "from sklearn.model_selection import cross_val_score\n",
    "from sklearn.model_selection import StratifiedKFold\n",
    "from sklearn.metrics import accuracy_score"
   ]
  },
  {
   "cell_type": "code",
   "execution_count": 16,
   "metadata": {},
   "outputs": [],
   "source": [
    "models = []\n",
    "models.append(('LR', LogisticRegression(solver='lbfgs',max_iter=4000)))\n",
    "models.append(('RF', RandomForestClassifier(n_estimators=100)))\n",
    "models.append(('GB', GradientBoostingClassifier()))\n",
    "models.append(('GNB', GaussianNB()))\n",
    "models.append(('DT', DecisionTreeClassifier()))\n",
    "models.append(('KNN', KNeighborsClassifier()))\n",
    "models.append(('SVC', SVC(kernel='linear',gamma='auto',C=2)))"
   ]
  },
  {
   "cell_type": "code",
   "execution_count": 31,
   "metadata": {},
   "outputs": [],
   "source": [
    "X_train,X_test,y_train,y_test = train_test_split(X,y,test_size=0.2,random_state=0)"
   ]
  },
  {
   "cell_type": "code",
   "execution_count": 54,
   "metadata": {},
   "outputs": [
    {
     "data": {
      "text/plain": [
       "(23, 6)"
      ]
     },
     "execution_count": 54,
     "metadata": {},
     "output_type": "execute_result"
    }
   ],
   "source": [
    "X_test.shape"
   ]
  },
  {
   "cell_type": "code",
   "execution_count": 26,
   "metadata": {},
   "outputs": [
    {
     "name": "stdout",
     "output_type": "stream",
     "text": [
      "  Name  score\n",
      "0   LR    1.0\n",
      "1   RF    1.0\n",
      "2   GB    1.0\n",
      "3  GNB    1.0\n",
      "4   DT    1.0\n",
      "5  KNN    1.0\n",
      "6  SVC    1.0\n"
     ]
    }
   ],
   "source": [
    "names = []\n",
    "scores = []\n",
    " \n",
    "for name,model in models:\n",
    "    model.fit(X_train,y_train)\n",
    "    y_pred=model.predict(X_test)\n",
    "    scores.append(accuracy_score(y_test,y_pred))\n",
    "    names.append(name)\n",
    "    \n",
    "tr_split = pd.DataFrame({'Name': names , 'score':scores})\n",
    "print(tr_split)\n",
    "    \n"
   ]
  },
  {
   "cell_type": "code",
   "execution_count": 27,
   "metadata": {},
   "outputs": [
    {
     "data": {
      "image/png": "[encoded data removed]",
      "text/plain": [
       "<Figure size 432x288 with 1 Axes>"
      ]
     },
     "metadata": {
      "needs_background": "light"
     },
     "output_type": "display_data"
    }
   ],
   "source": [
    "import seaborn as sns\n",
    "import matplotlib.pyplot as plt \n",
    "axis = sns.barplot (x='Name',y='score',data=tr_split)\n",
    "axis.set(xlabel='Classifier algorithm',ylabel='Accuracy')\n",
    "for p in axis.patches:\n",
    "    height = p.get_height()\n",
    "    axis.text(p.get_x() + p.get_width()/2,height + 0.005,'{:1.4f}'.format(height),ha=\"center\")\n",
    "plt.show()"
   ]
  },
  {
   "cell_type": "code",
   "execution_count": 41,
   "metadata": {},
   "outputs": [
    {
     "name": "stdout",
     "output_type": "stream",
     "text": [
      "LR [0]\n",
      "RF [1]\n",
      "GB [1]\n",
      "GNB [1]\n",
      "DT [1]\n",
      "KNN [0]\n",
      "SVC [0]\n"
     ]
    }
   ],
   "source": [
    "for name,model in models:\n",
    "    model.fit(X_train,y_train)\n",
    "    y_pred=model.predict([[600,1,2000,900,100,3000]])  # here we can predict wheater the road \n",
    "    print(name,y_pred)                                   #is dangerous or not by giving data "
   ]
  },
  {
   "cell_type": "code",
   "execution_count": 44,
   "metadata": {},
   "outputs": [],
   "source": [
    "from sklearn import svm\n",
    "classifier=svm.SVC(kernel='linear',gamma='auto',C=2)\n",
    "classifier.fit(X_train,y_train)\n",
    "\n",
    "y_predict = classifier.predict(X_test)"
   ]
  },
  {
   "cell_type": "code",
   "execution_count": 45,
   "metadata": {},
   "outputs": [
    {
     "name": "stdout",
     "output_type": "stream",
     "text": [
      "              precision    recall  f1-score   support\n",
      "\n",
      "           0       1.00      1.00      1.00         5\n",
      "           1       1.00      1.00      1.00        18\n",
      "\n",
      "    accuracy                           1.00        23\n",
      "   macro avg       1.00      1.00      1.00        23\n",
      "weighted avg       1.00      1.00      1.00        23\n",
      "\n"
     ]
    }
   ],
   "source": [
    "from sklearn.metrics import classification_report\n",
    "print(classification_report(y_test,y_predict))"
   ]
  },
  {
   "cell_type": "code",
   "execution_count": 55,
   "metadata": {},
   "outputs": [
    {
     "name": "stdout",
     "output_type": "stream",
     "text": [
      "[1]\n"
     ]
    }
   ],
   "source": [
    "classifier.fit(X_train,y_train)\n",
    "\n",
    "y_predict = classifier.predict([[500,1,2000,500,800,3300]])\n",
    "print(y_predict)"
   ]
  },
  {
   "cell_type": "code",
   "execution_count": null,
   "metadata": {},
   "outputs": [],
   "source": []
  }
 ],
 "metadata": {
  "kernelspec": {
   "display_name": "Python 3",
   "language": "python",
   "name": "python3"
  },
  "language_info": {
   "codemirror_mode": {
    "name": "ipython",
    "version": 3
   },
   "file_extension": ".py",
   "mimetype": "text/x-python",
   "name": "python",
   "nbconvert_exporter": "python",
   "pygments_lexer": "ipython3",
   "version": "3.7.4"
  }
 },
 "nbformat": 4,
 "nbformat_minor": 2
}
